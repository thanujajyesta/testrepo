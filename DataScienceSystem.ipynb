{
 "cells": [
  {
   "cell_type": "markdown",
   "id": "31bfb319-a659-4d14-8a93-8a5c49b08c49",
   "metadata": {},
   "source": [
    "# H1: Data Science Tools and Ecosystem"
   ]
  },
  {
   "cell_type": "markdown",
   "id": "1b0cebdd-56a6-445f-a11b-05650520c768",
   "metadata": {},
   "source": [
    "In this notebook, Data Science Tools and Ecosystem are summarized."
   ]
  },
  {
   "cell_type": "markdown",
   "id": "31dbaccc-0552-46cb-9547-468f31f0bc49",
   "metadata": {},
   "source": [
    "Some of the popular languages that Data Scientists use are\n",
    "\n",
    "1. Python\n",
    "2. Java\n",
    "3. C\n",
    "4. C++"
   ]
  },
  {
   "cell_type": "markdown",
   "id": "c9bffca1-2e40-426d-acab-35a0e039e31d",
   "metadata": {},
   "source": [
    "Some of the commonly used libraries used by Data Scientists include:\n",
    "\n",
    "1. Pandas\n",
    "2. TensorFlow\n",
    "3. Keras\n",
    "4. Matplotlib"
   ]
  },
  {
   "cell_type": "markdown",
   "id": "0b26a992-8aaa-4d9b-90f3-32d895f3f08c",
   "metadata": {},
   "source": [
    "| Data Science Tools | \n",
    "| -------------| \n",
    "| RStudio |\n",
    "| RapidMiner |\n",
    "| TensorFlow |\n",
    "| Apache Spark|"
   ]
  },
  {
   "cell_type": "markdown",
   "id": "ec3f7f1b-8fed-44a9-9253-ce27095c080c",
   "metadata": {},
   "source": [
    "### H3: Below are few examples of evaluating arithmetic expressions in Python."
   ]
  },
  {
   "cell_type": "code",
   "execution_count": 1,
   "id": "7b97ff36-0244-4893-9dfa-c8ac3a8be078",
   "metadata": {
    "tags": []
   },
   "outputs": [
    {
     "data": {
      "text/plain": [
       "17"
      ]
     },
     "execution_count": 1,
     "metadata": {},
     "output_type": "execute_result"
    }
   ],
   "source": [
    "# This is a simple arithmetic expression to multiply then add integers.\n",
    "(3*4)+5"
   ]
  },
  {
   "cell_type": "code",
   "execution_count": 2,
   "id": "0015c001-08b2-4096-a80d-728368170b29",
   "metadata": {
    "tags": []
   },
   "outputs": [
    {
     "data": {
      "text/plain": [
       "3.3333333333333335"
      ]
     },
     "execution_count": 2,
     "metadata": {},
     "output_type": "execute_result"
    }
   ],
   "source": [
    "# This will convert 200 minutes  to hours by dividing by 60\n",
    "200/60"
   ]
  },
  {
   "cell_type": "markdown",
   "id": "fa379326-d5fd-4d89-8cb6-18785d30a671",
   "metadata": {},
   "source": [
    "**Objectives**"
   ]
  },
  {
   "cell_type": "markdown",
   "id": "2ed592e7-fe28-4a1a-bcce-ee3fd5a7134b",
   "metadata": {},
   "source": [
    "- List popular languages for DataScience\n",
    "- List libraries used by Data scientists\n",
    "- List of Data Science Tools\n",
    "- Evaluate simple aritmetic expressions"
   ]
  },
  {
   "cell_type": "markdown",
   "id": "9ea6c3ad-e491-45dd-a4d4-9fadf7e462f5",
   "metadata": {},
   "source": [
    "## H2:Author\n",
    "\n",
    "Thanuja Jyesta"
   ]
  },
  {
   "cell_type": "code",
   "execution_count": null,
   "id": "f11f1643-e712-4b83-8fd0-2ebbe3bfb215",
   "metadata": {},
   "outputs": [],
   "source": []
  }
 ],
 "metadata": {
  "kernelspec": {
   "display_name": "Python",
   "language": "python",
   "name": "conda-env-python-py"
  },
  "language_info": {
   "codemirror_mode": {
    "name": "ipython",
    "version": 3
   },
   "file_extension": ".py",
   "mimetype": "text/x-python",
   "name": "python",
   "nbconvert_exporter": "python",
   "pygments_lexer": "ipython3",
   "version": "3.7.12"
  }
 },
 "nbformat": 4,
 "nbformat_minor": 5
}
